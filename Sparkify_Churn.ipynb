{
 "cells": [
  {
   "cell_type": "markdown",
   "metadata": {},
   "source": [
    "## Start a SparkSession\n",
    "This will start a local Spark session."
   ]
  },
  {
   "cell_type": "code",
   "execution_count": 1,
   "metadata": {
    "ExecuteTime": {
     "end_time": "2019-04-04T16:01:18.560666Z",
     "start_time": "2019-04-04T16:01:15.440391Z"
    }
   },
   "outputs": [],
   "source": [
    "# Starter code\n",
    "from pyspark.sql import SparkSession\n",
    "\n",
    "# Create spark session\n",
    "spark = SparkSession \\\n",
    "    .builder \\\n",
    "    .appName(\"Sparkify\") \\\n",
    "    .getOrCreate()"
   ]
  },
  {
   "cell_type": "code",
   "execution_count": 2,
   "metadata": {
    "ExecuteTime": {
     "end_time": "2019-04-04T16:01:20.709253Z",
     "start_time": "2019-04-04T16:01:18.563889Z"
    }
   },
   "outputs": [],
   "source": [
    "from pyspark.sql.functions import add_months, avg, count, countDistinct, col, datediff,\\\n",
    "desc, expr, from_unixtime, floor, isnan, lag, lit, month, months_between,\\\n",
    "min, max, split, sum, udf, unix_timestamp, when, year\n",
    "from pyspark.sql.types import IntegerType, DateType\n",
    "from pyspark.sql.window import Window\n",
    "\n",
    "import matplotlib.pyplot as plt\n",
    "%matplotlib inline\n",
    "import warnings\n",
    "warnings.filterwarnings('ignore')\n",
    "\n",
    "import pandas as pd\n",
    "import numpy as np\n",
    "import seaborn as sns\n",
    "from datetime import datetime\n",
    "\n",
    "from sklearn.preprocessing import StandardScaler\n",
    "from sklearn.linear_model import LogisticRegression\n",
    "from sklearn.svm import SVC \n",
    "from sklearn.ensemble import GradientBoostingClassifier, RandomForestClassifier\n",
    "from sklearn.metrics import accuracy_score, precision_score, recall_score, f1_score\n",
    "from sklearn.model_selection import train_test_split, GridSearchCV\n",
    "\n",
    "from scikitplot.metrics import plot_calibration_curve, plot_confusion_matrix\n",
    "from scikitplot.plotters import plot_learning_curve\n",
    "from scikitplot.estimators import plot_feature_importances"
   ]
  },
  {
   "cell_type": "markdown",
   "metadata": {},
   "source": [
    "## Load and Clean Data"
   ]
  },
  {
   "cell_type": "markdown",
   "metadata": {},
   "source": [
    "## Load and Clean Datasets\n",
    "Load and inspect Datasets. We load the medium size dataset `medium-sparkify-event-data.json`."
   ]
  },
  {
   "cell_type": "code",
   "execution_count": 3,
   "metadata": {
    "ExecuteTime": {
     "end_time": "2019-04-04T16:01:24.942889Z",
     "start_time": "2019-04-04T16:01:20.711345Z"
    }
   },
   "outputs": [],
   "source": [
    "df = spark.read.json('/Users/leandrohandal/Downloads/medium-sparkify-event-data.json')"
   ]
  },
  {
   "cell_type": "code",
   "execution_count": 4,
   "metadata": {
    "ExecuteTime": {
     "end_time": "2019-04-04T16:01:24.966597Z",
     "start_time": "2019-04-04T16:01:24.946440Z"
    }
   },
   "outputs": [
    {
     "name": "stdout",
     "output_type": "stream",
     "text": [
      "root\n",
      " |-- artist: string (nullable = true)\n",
      " |-- auth: string (nullable = true)\n",
      " |-- firstName: string (nullable = true)\n",
      " |-- gender: string (nullable = true)\n",
      " |-- itemInSession: long (nullable = true)\n",
      " |-- lastName: string (nullable = true)\n",
      " |-- length: double (nullable = true)\n",
      " |-- level: string (nullable = true)\n",
      " |-- location: string (nullable = true)\n",
      " |-- method: string (nullable = true)\n",
      " |-- page: string (nullable = true)\n",
      " |-- registration: long (nullable = true)\n",
      " |-- sessionId: long (nullable = true)\n",
      " |-- song: string (nullable = true)\n",
      " |-- status: long (nullable = true)\n",
      " |-- ts: long (nullable = true)\n",
      " |-- userAgent: string (nullable = true)\n",
      " |-- userId: string (nullable = true)\n",
      "\n"
     ]
    }
   ],
   "source": [
    "df.printSchema()"
   ]
  },
  {
   "cell_type": "markdown",
   "metadata": {},
   "source": [
    "### Investigate timestamps"
   ]
  },
  {
   "cell_type": "code",
   "execution_count": 5,
   "metadata": {
    "ExecuteTime": {
     "end_time": "2019-04-04T16:01:26.017591Z",
     "start_time": "2019-04-04T16:01:24.970373Z"
    }
   },
   "outputs": [
    {
     "name": "stdout",
     "output_type": "stream",
     "text": [
      "+-------+--------------------+\n",
      "|summary|                  ts|\n",
      "+-------+--------------------+\n",
      "|  count|              543705|\n",
      "|   mean|1.540964541209743...|\n",
      "| stddev|1.4820571449120703E9|\n",
      "|    min|       1538352011000|\n",
      "|    max|       1543622466000|\n",
      "+-------+--------------------+\n",
      "\n"
     ]
    }
   ],
   "source": [
    "df.describe(\"ts\").show()"
   ]
  },
  {
   "cell_type": "code",
   "execution_count": 6,
   "metadata": {
    "ExecuteTime": {
     "end_time": "2019-04-04T16:01:26.026444Z",
     "start_time": "2019-04-04T16:01:26.019975Z"
    }
   },
   "outputs": [
    {
     "name": "stdout",
     "output_type": "stream",
     "text": [
      "Start Time: 2018-10-01 00:00:01\n",
      "End Time: 2018-12-01 00:00:02\n"
     ]
    }
   ],
   "source": [
    "ts = int(1538352001000)\n",
    "ts /= 1000\n",
    "print(\"Start Time: {}\".format(datetime.utcfromtimestamp(ts).strftime('%Y-%m-%d %H:%M:%S')))\n",
    "\n",
    "ts = int(1543622402000)\n",
    "ts /= 1000\n",
    "print(\"End Time: {}\".format(datetime.utcfromtimestamp(ts).strftime('%Y-%m-%d %H:%M:%S')))"
   ]
  },
  {
   "cell_type": "markdown",
   "metadata": {},
   "source": [
    "There are 2 months of data available"
   ]
  },
  {
   "cell_type": "markdown",
   "metadata": {},
   "source": [
    "### Investigate pages"
   ]
  },
  {
   "cell_type": "code",
   "execution_count": 7,
   "metadata": {
    "ExecuteTime": {
     "end_time": "2019-04-04T16:01:27.198100Z",
     "start_time": "2019-04-04T16:01:26.029172Z"
    },
    "scrolled": false
   },
   "outputs": [
    {
     "name": "stdout",
     "output_type": "stream",
     "text": [
      "+--------------------+\n",
      "|                page|\n",
      "+--------------------+\n",
      "|              Cancel|\n",
      "|    Submit Downgrade|\n",
      "|         Thumbs Down|\n",
      "|                Home|\n",
      "|           Downgrade|\n",
      "|         Roll Advert|\n",
      "|              Logout|\n",
      "|       Save Settings|\n",
      "|Cancellation Conf...|\n",
      "|               About|\n",
      "| Submit Registration|\n",
      "|            Settings|\n",
      "|               Login|\n",
      "|            Register|\n",
      "|     Add to Playlist|\n",
      "|          Add Friend|\n",
      "|            NextSong|\n",
      "|           Thumbs Up|\n",
      "|                Help|\n",
      "|             Upgrade|\n",
      "+--------------------+\n",
      "only showing top 20 rows\n",
      "\n"
     ]
    }
   ],
   "source": [
    "df.select(\"page\").dropDuplicates().show()"
   ]
  },
  {
   "cell_type": "markdown",
   "metadata": {},
   "source": [
    "### Investigate missing and null values"
   ]
  },
  {
   "cell_type": "code",
   "execution_count": 8,
   "metadata": {
    "ExecuteTime": {
     "end_time": "2019-04-04T16:01:31.511463Z",
     "start_time": "2019-04-04T16:01:27.201056Z"
    }
   },
   "outputs": [
    {
     "name": "stdout",
     "output_type": "stream",
     "text": [
      "+------+----+---------+------+-------------+--------+------+-----+--------+------+----+------------+---------+----+------+---+---------+------+\n",
      "|artist|auth|firstName|gender|itemInSession|lastName|length|level|location|method|page|registration|sessionId|song|status| ts|userAgent|userId|\n",
      "+------+----+---------+------+-------------+--------+------+-----+--------+------+----+------------+---------+----+------+---+---------+------+\n",
      "|     0|   0|        0|     0|            0|       0|     0|    0|       0|     0|   0|           0|        0|   0|     0|  0|        0|     0|\n",
      "+------+----+---------+------+-------------+--------+------+-----+--------+------+----+------------+---------+----+------+---+---------+------+\n",
      "\n"
     ]
    }
   ],
   "source": [
    "# check NaN values per column\n",
    "# taken from: https://stackoverflow.com/questions/44627386/how-to-find-count-of-null-and-nan-values-for-each-column-in-a-pyspark-dataframe\n",
    "df.select([count(when(isnan(c), c)).alias(c) for c in df.columns]).show()"
   ]
  },
  {
   "cell_type": "code",
   "execution_count": 9,
   "metadata": {
    "ExecuteTime": {
     "end_time": "2019-04-04T16:01:32.721514Z",
     "start_time": "2019-04-04T16:01:31.514162Z"
    }
   },
   "outputs": [
    {
     "name": "stdout",
     "output_type": "stream",
     "text": [
      "+------+----+---------+------+-------------+--------+------+-----+--------+------+----+------------+---------+------+------+---+---------+------+\n",
      "|artist|auth|firstName|gender|itemInSession|lastName|length|level|location|method|page|registration|sessionId|  song|status| ts|userAgent|userId|\n",
      "+------+----+---------+------+-------------+--------+------+-----+--------+------+----+------------+---------+------+------+---+---------+------+\n",
      "|110828|   0|    15700| 15700|            0|   15700|110828|    0|   15700|     0|   0|       15700|        0|110828|     0|  0|    15700|     0|\n",
      "+------+----+---------+------+-------------+--------+------+-----+--------+------+----+------------+---------+------+------+---+---------+------+\n",
      "\n"
     ]
    }
   ],
   "source": [
    "# check null values per column\n",
    "df.select([count(when(col(c).isNull(), c)).alias(c) for c in df.columns]).show()"
   ]
  },
  {
   "cell_type": "markdown",
   "metadata": {},
   "source": [
    "### Cleaning data"
   ]
  },
  {
   "cell_type": "code",
   "execution_count": 10,
   "metadata": {
    "ExecuteTime": {
     "end_time": "2019-04-04T16:01:32.731823Z",
     "start_time": "2019-04-04T16:01:32.723059Z"
    }
   },
   "outputs": [],
   "source": [
    "# filter out all entries with missing names.\n",
    "# they are not recording information that we will need for the model\n",
    "df = df.filter(df.firstName.isNotNull())"
   ]
  },
  {
   "cell_type": "code",
   "execution_count": 11,
   "metadata": {
    "ExecuteTime": {
     "end_time": "2019-04-04T16:01:32.860195Z",
     "start_time": "2019-04-04T16:01:32.733890Z"
    }
   },
   "outputs": [],
   "source": [
    "# original timestamp in milliseconds, so divide by 1000\n",
    "adjust_timestamp = udf(lambda x : x//1000, IntegerType())\n",
    "df = df.withColumn(\"ts_adj\", adjust_timestamp('ts'))\n",
    "\n",
    "# convert adjusted timestamp to datetime\n",
    "df = df.withColumn(\"datetime\", from_unixtime(col(\"ts_adj\")))\n",
    "\n",
    "# convert registration timestamp to datetime\n",
    "df = df.withColumn(\"reg_adj\", adjust_timestamp('registration'))\n",
    "\n",
    "# convert adjusted registration timestamp to datetime\n",
    "df = df.withColumn(\"reg_datetime\", from_unixtime(col(\"reg_adj\")))\n",
    "\n",
    "# drop all the timestamp columns. Will not need them\n",
    "columns_to_drop = ['registration', 'ts', 'ts_adj', 'reg_adj']\n",
    "df = df.drop(*columns_to_drop)\n",
    "\n",
    "# add start date of analysis\n",
    "df = df.withColumn('analysis_start_date', lit('2018-10-01 00:00:00'))\n",
    "\n",
    "# number the months starting from the very first month of the analysis\n",
    "df = df.withColumn(\"month_num\", floor(months_between(df.datetime, df.analysis_start_date)))"
   ]
  },
  {
   "cell_type": "code",
   "execution_count": 12,
   "metadata": {
    "ExecuteTime": {
     "end_time": "2019-04-04T16:01:32.899224Z",
     "start_time": "2019-04-04T16:01:32.861900Z"
    }
   },
   "outputs": [],
   "source": [
    "# engineer free or paid binary variable\n",
    "# free: 0, paid: 1\n",
    "df = df.replace([\"free\", \"paid\"], [\"0\", \"1\"], \"level\")\n",
    "\n",
    "# engineer male and female binary binary variable\n",
    "# male: 0, female: 1\n",
    "df = df.replace([\"M\", \"F\"], [\"0\", \"1\"], \"gender\")"
   ]
  },
  {
   "cell_type": "markdown",
   "metadata": {},
   "source": [
    "### Define Churn"
   ]
  },
  {
   "cell_type": "code",
   "execution_count": 13,
   "metadata": {
    "ExecuteTime": {
     "end_time": "2019-04-04T16:01:33.758879Z",
     "start_time": "2019-04-04T16:01:32.901053Z"
    }
   },
   "outputs": [
    {
     "name": "stdout",
     "output_type": "stream",
     "text": [
      "+-----------------+---------+---------+------+-------------+--------+---------+-----+--------------------+------+--------+---------+------------------+------+--------------------+------+-------------------+-------------------+-------------------+---------+-----+\n",
      "|           artist|     auth|firstName|gender|itemInSession|lastName|   length|level|            location|method|    page|sessionId|              song|status|           userAgent|userId|           datetime|       reg_datetime|analysis_start_date|month_num|churn|\n",
      "+-----------------+---------+---------+------+-------------+--------+---------+-----+--------------------+------+--------+---------+------------------+------+--------------------+------+-------------------+-------------------+-------------------+---------+-----+\n",
      "|    Martin Orford|Logged In|   Joseph|     0|           20| Morales|597.55057|    0|  Corpus Christi, TX|   PUT|NextSong|      292|     Grand Designs|   200|\"Mozilla/5.0 (Mac...|   293|2018-10-01 02:00:11|2018-07-20 07:11:47|2018-10-01 00:00:00|        0|    0|\n",
      "|John Brown's Body|Logged In|   Sawyer|     0|           74|  Larson|380.21179|    0|Houston-The Woodl...|   PUT|NextSong|       97|             Bulls|   200|\"Mozilla/5.0 (Mac...|    98|2018-10-01 02:00:25|2018-09-27 19:33:58|2018-10-01 00:00:00|        0|    0|\n",
      "|          Afroman|Logged In| Maverick|     0|          184|Santiago|202.37016|    1|Orlando-Kissimmee...|   PUT|NextSong|      178|Because I Got High|   200|\"Mozilla/5.0 (Mac...|   179|2018-10-01 02:01:58|2018-09-03 07:44:15|2018-10-01 00:00:00|        0|    0|\n",
      "|             null|Logged In| Maverick|     0|          185|Santiago|     null|    1|Orlando-Kissimmee...|   PUT|  Logout|      178|              null|   307|\"Mozilla/5.0 (Mac...|   179|2018-10-01 02:01:59|2018-09-03 07:44:15|2018-10-01 00:00:00|        0|    0|\n",
      "|       Lily Allen|Logged In|   Gianna|     1|           22|  Campos|194.53342|    1|          Mobile, AL|   PUT|NextSong|      245|Smile (Radio Edit)|   200|Mozilla/5.0 (Wind...|   246|2018-10-01 02:02:04|2018-09-03 01:30:18|2018-10-01 00:00:00|        0|    0|\n",
      "+-----------------+---------+---------+------+-------------+--------+---------+-----+--------------------+------+--------+---------+------------------+------+--------------------+------+-------------------+-------------------+-------------------+---------+-----+\n",
      "only showing top 5 rows\n",
      "\n"
     ]
    }
   ],
   "source": [
    "# can possibly switch to a 2-class classification system\n",
    "def define_churn(x):\n",
    "    \"\"\"\n",
    "    Defining churn as cancellation of service or downgrading from premium to free tier.\n",
    "    \"\"\"\n",
    "    if x == \"Cancellation Confirmation\":\n",
    "        return 1\n",
    "    elif x == \"Submit Downgrade\":\n",
    "        return 1\n",
    "    else:\n",
    "        return 0\n",
    "    \n",
    "churn_event = udf(lambda x : define_churn(x), IntegerType())\n",
    "    \n",
    "df = df.withColumn(\"churn\", churn_event(\"page\"))\n",
    "\n",
    "df.show(5)"
   ]
  },
  {
   "cell_type": "code",
   "execution_count": 14,
   "metadata": {
    "ExecuteTime": {
     "end_time": "2019-04-04T16:01:34.478821Z",
     "start_time": "2019-04-04T16:01:33.761601Z"
    }
   },
   "outputs": [],
   "source": [
    "# aggregate number of page visits for each user on a monthly basis\n",
    "\n",
    "df_upgrade = df.select('userId', 'month_num', 'page') \\\n",
    ".where(df.page==\"Upgrade\") \\\n",
    ".groupBy('userId', 'month_num') \\\n",
    ".agg({'page':'count'}) \\\n",
    ".withColumnRenamed('count(page)', 'numUpgradeVisits')\n",
    "\n",
    "df_downgrade = df.select('userId', 'month_num', 'page') \\\n",
    ".where(df.page==\"Downgrade\") \\\n",
    ".groupBy('userId', 'month_num') \\\n",
    ".agg({'page':'count'}) \\\n",
    ".withColumnRenamed('count(page)', 'numDowngradeVisits')\n",
    "\n",
    "df_home = df.select('userId', 'month_num', 'page') \\\n",
    ".where(df.page==\"Home\") \\\n",
    ".groupBy('userId', 'month_num') \\\n",
    ".agg({'page':'count'}) \\\n",
    ".withColumnRenamed('count(page)', 'numHomeVisits')\n",
    "\n",
    "df_about = df.select('userId', 'month_num', 'page') \\\n",
    ".where(df.page==\"About\") \\\n",
    ".groupBy('userId', 'month_num') \\\n",
    ".agg({'page':'count'}) \\\n",
    ".withColumnRenamed('count(page)', 'numAboutVisits')\n",
    "\n",
    "df_settings = df.select('userId', 'month_num', 'page') \\\n",
    ".where(df.page==\"Settings\") \\\n",
    ".groupBy('userId', 'month_num') \\\n",
    ".agg({'page':'count'}) \\\n",
    ".withColumnRenamed('count(page)', 'numSettingsVisits')\n",
    "\n",
    "df_saveSettings = df.select('userId', 'month_num', 'page') \\\n",
    ".where(df.page==\"Save Settings\") \\\n",
    ".groupBy('userId', 'month_num') \\\n",
    ".agg({'page':'count'}) \\\n",
    ".withColumnRenamed('count(page)', 'numSaveSettings')\n",
    "\n",
    "df_logout = df.select('userId', 'month_num', 'page') \\\n",
    ".where(df.page==\"Logout\") \\\n",
    ".groupBy('userId', 'month_num') \\\n",
    ".agg({'page':'count'}) \\\n",
    ".withColumnRenamed('count(page)', 'numLogouts')\n",
    "\n",
    "df_addPlaylist = df.select('userId', 'month_num', 'page') \\\n",
    ".where(df.page==\"Add to Playlist\") \\\n",
    ".groupBy('userId', 'month_num') \\\n",
    ".agg({'page':'count'}) \\\n",
    ".withColumnRenamed('count(page)', 'numAddPlaylists')\n",
    "\n",
    "df_addFriend = df.select('userId', 'month_num', 'page') \\\n",
    ".where(df.page==\"Add Friend\") \\\n",
    ".groupBy('userId', 'month_num') \\\n",
    ".agg({'page':'count'}) \\\n",
    ".withColumnRenamed('count(page)', 'numFriends')\n",
    "\n",
    "df_thumbsUp = df.select('userId', 'month_num', 'page') \\\n",
    ".where(df.page==\"Thumbs Up\") \\\n",
    ".groupBy('userId', 'month_num') \\\n",
    ".agg({'page':'count'}) \\\n",
    ".withColumnRenamed('count(page)', 'numThumbsUp')\n",
    "\n",
    "df_thumbsDown = df.select('userId', 'month_num', 'page') \\\n",
    ".where(df.page==\"Thumbs Down\") \\\n",
    ".groupBy('userId', 'month_num') \\\n",
    ".agg({'page':'count'}) \\\n",
    ".withColumnRenamed('count(page)', 'numThumbsDown')\n",
    "\n",
    "df_advert = df.select('userId', 'month_num', 'page') \\\n",
    ".where(df.page==\"Roll Advert\") \\\n",
    ".groupBy('userId', 'month_num') \\\n",
    ".agg({'page':'count'}) \\\n",
    ".withColumnRenamed('count(page)', 'numAdverts')\n",
    "\n",
    "df_songsPlayed = df.select('userId', 'month_num', 'page') \\\n",
    ".where(df.page==\"NextSong\") \\\n",
    ".groupBy('userId', 'month_num') \\\n",
    ".agg({'page':'count'}) \\\n",
    ".withColumnRenamed('count(page)', 'numSongsPlayed')\n",
    "\n",
    "df_totalListen = df.select('userId', 'month_num', 'length') \\\n",
    ".groupBy('userId', 'month_num') \\\n",
    ".agg({'length':'sum'}) \\\n",
    ".withColumnRenamed('sum(length)', 'totalListenTime')\n",
    "\n",
    "# number of songs per session\n",
    "df_songsPerSession = df.select('userId', 'month_num', 'page', 'sessionId') \\\n",
    ".where(df.page==\"NextSong\") \\\n",
    ".groupBy('userId', 'month_num', 'sessionId') \\\n",
    ".agg({'page':'count'}) \\\n",
    ".withColumnRenamed('count(page)', 'SongsPerSession')\n",
    "# avg number of songs per session\n",
    "df_avgSongsPerSession = df_songsPerSession.groupBy('userId', 'month_num') \\\n",
    ".agg(avg(df_songsPerSession.SongsPerSession).alias('avgSongsPerSession'))\n",
    "\n",
    "# number of singers\n",
    "df_singersPlayed = df.select('userId', 'month_num', 'page', 'artist') \\\n",
    ".where(df.page==\"NextSong\") \\\n",
    ".groupBy('userId', 'month_num') \\\n",
    ".agg(countDistinct(df.artist).alias('numSingersPlayed'))\n",
    "\n",
    "# number of singers per session\n",
    "df_singersPerSession = df.select('userId', 'month_num', 'page', 'artist', 'sessionId') \\\n",
    ".where(df.page==\"NextSong\") \\\n",
    ".groupBy('userId', 'month_num', 'sessionId') \\\n",
    ".agg(countDistinct(df.artist).alias('SingersPerSession'))\n",
    "# avg number of singers per session\n",
    "df_avgSingersPerSession = df_singersPerSession.groupBy('userId', 'month_num') \\\n",
    ".agg(avg(df_singersPerSession.SingersPerSession).alias('avgSingersPerSession'))\n",
    "\n",
    "# groupby user, month_num, sessionId.\n",
    "df_userSession = df.groupBy(\"userId\", \"month_num\", \"sessionId\") \\\n",
    ".agg(((max(unix_timestamp(df.datetime))-min(unix_timestamp(df.datetime)))/60.0).alias('sessionTimeMins'))\n",
    "# Find avg session time\n",
    "df_avgUserSession = df_userSession.groupBy('userId', 'month_num').agg(avg(df_userSession.sessionTimeMins).alias('avgSessionMins'))\n",
    "\n",
    "# number of sessions\n",
    "df_numSession = df.select('userId', 'month_num', 'sessionId').dropDuplicates() \\\n",
    ".groupby('userId', 'month_num').agg({'sessionId':'count'}) \\\n",
    ".withColumnRenamed('count(sessionId)', 'numSessions')\n",
    "\n",
    "# if user had premium at any point of the month, assumer he/she has premium for\n",
    "# the whole month for simplicity\n",
    "df_level = df.select('userId', 'month_num', 'level') \\\n",
    ".groupBy('userId', 'month_num') \\\n",
    ".agg({'level':'max'}) \\\n",
    ".withColumnRenamed('max(level)', 'level')\n",
    "\n",
    "# assuming nobody changes gender midway\n",
    "df_gender = df.select('userId', 'month_num', 'gender') \\\n",
    ".groupBy('userId', 'month_num') \\\n",
    ".agg({'gender':'max'}) \\\n",
    ".withColumnRenamed('max(gender)', 'gender')\n",
    "\n",
    "# start of each month\n",
    "# from https://stackoverflow.com/questions/45612208/add-months-to-date-column-in-spark-dataframe\n",
    "df = df.withColumn(\"start_of_month\", expr(\"add_months(analysis_start_date, month_num)\"))\n",
    "# days since registration from start of each month\n",
    "# from https://stackoverflow.com/questions/44020818/how-to-calculate-date-difference-in-pyspark\n",
    "df = df.withColumn(\"daysSinceReg\", datediff(df.start_of_month, df.reg_datetime))\n",
    "#\n",
    "df_daysReg = df.select('userId', 'month_num', 'daysSinceReg') \\\n",
    ".groupBy('userId', 'month_num') \\\n",
    ".agg(min(df.daysSinceReg).alias('daysSinceReg'))\n",
    "\n",
    "df_churn = df.select('userId', 'month_num', 'churn') \\\n",
    ".groupBy('userId', 'month_num') \\\n",
    ".agg({'churn':'max'}) \\\n",
    ".withColumnRenamed('max(churn)', 'churn')"
   ]
  },
  {
   "cell_type": "code",
   "execution_count": 15,
   "metadata": {
    "ExecuteTime": {
     "end_time": "2019-04-04T16:01:34.705776Z",
     "start_time": "2019-04-04T16:01:34.480684Z"
    }
   },
   "outputs": [],
   "source": [
    "all_data = df_upgrade.join(df_downgrade, ['userId', 'month_num'], 'outer') \\\n",
    ".join(df_home, ['userId', 'month_num'], 'outer') \\\n",
    ".join(df_about, ['userId', 'month_num'], 'outer') \\\n",
    ".join(df_settings, ['userId', 'month_num'], 'outer') \\\n",
    ".join(df_saveSettings, ['userId', 'month_num'], 'outer') \\\n",
    ".join(df_logout, ['userId', 'month_num'], 'outer') \\\n",
    ".join(df_addPlaylist, ['userId', 'month_num'], 'outer') \\\n",
    ".join(df_addFriend, ['userId', 'month_num'], 'outer') \\\n",
    ".join(df_thumbsUp, ['userId', 'month_num'], 'outer') \\\n",
    ".join(df_thumbsDown, ['userId', 'month_num'], 'outer') \\\n",
    ".join(df_advert, ['userId', 'month_num'], 'outer') \\\n",
    ".join(df_songsPlayed, ['userId', 'month_num'], 'outer') \\\n",
    ".join(df_totalListen, ['userId', 'month_num'], 'outer') \\\n",
    ".join(df_avgSongsPerSession, ['userId', 'month_num'], 'outer') \\\n",
    ".join(df_singersPlayed, ['userId', 'month_num']) \\\n",
    ".join(df_avgSingersPerSession, ['userId', 'month_num'], 'outer') \\\n",
    ".join(df_avgUserSession, ['userId', 'month_num'], 'outer') \\\n",
    ".join(df_numSession, ['userId', 'month_num'], 'outer') \\\n",
    ".join(df_level, ['userId', 'month_num'], 'outer') \\\n",
    ".join(df_gender, ['userId', 'month_num'], 'outer') \\\n",
    ".join(df_daysReg, ['userId', 'month_num'], 'outer') \\\n",
    ".join(df_churn, ['userId', 'month_num'], 'outer')"
   ]
  },
  {
   "cell_type": "code",
   "execution_count": 16,
   "metadata": {
    "ExecuteTime": {
     "end_time": "2019-04-04T16:02:55.123562Z",
     "start_time": "2019-04-04T16:01:34.707558Z"
    }
   },
   "outputs": [
    {
     "name": "stdout",
     "output_type": "stream",
     "text": [
      "+------+---------+----------------+------------------+-------------+--------------+-----------------+---------------+----------+---------------+----------+-----------+-------------+----------+--------------+---------------+------------------+----------------+--------------------+--------------+-----------+-----+------+------------+-----+\n",
      "|userId|month_num|numUpgradeVisits|numDowngradeVisits|numHomeVisits|numAboutVisits|numSettingsVisits|numSaveSettings|numLogouts|numAddPlaylists|numFriends|numThumbsUp|numThumbsDown|numAdverts|numSongsPlayed|totalListenTime|avgSongsPerSession|numSingersPlayed|avgSingersPerSession|avgSessionMins|numSessions|level|gender|daysSinceReg|churn|\n",
      "+------+---------+----------------+------------------+-------------+--------------+-----------------+---------------+----------+---------------+----------+-----------+-------------+----------+--------------+---------------+------------------+----------------+--------------------+--------------+-----------+-----+------+------------+-----+\n",
      "|     0|        0|             437|               354|           45|           435|              237|            515|       115|             98|       155|         54|          189|       209|             3|              3|                 3|               3|                   3|             0|          0|    0|     0|           0|    0|\n",
      "+------+---------+----------------+------------------+-------------+--------------+-----------------+---------------+----------+---------------+----------+-----------+-------------+----------+--------------+---------------+------------------+----------------+--------------------+--------------+-----------+-----+------+------------+-----+\n",
      "\n"
     ]
    }
   ],
   "source": [
    "all_data.select([count(when(col(c).isNull(), c)).alias(c) for c in all_data.columns]).show()"
   ]
  },
  {
   "cell_type": "code",
   "execution_count": 17,
   "metadata": {
    "ExecuteTime": {
     "end_time": "2019-04-04T16:02:55.222956Z",
     "start_time": "2019-04-04T16:02:55.125778Z"
    }
   },
   "outputs": [],
   "source": [
    "# fill na/null values with 0\n",
    "all_data = all_data.na.fill(0.0)"
   ]
  },
  {
   "cell_type": "code",
   "execution_count": 18,
   "metadata": {
    "ExecuteTime": {
     "end_time": "2019-04-04T16:02:55.551684Z",
     "start_time": "2019-04-04T16:02:55.230111Z"
    }
   },
   "outputs": [],
   "source": [
    "windowlag = (Window.partitionBy('userId').orderBy('month_num'))\n",
    "\n",
    "# generate 1 month lag features\n",
    "all_data = all_data.withColumn('numUpgradeVisits_lastMonth', lag(all_data['numUpgradeVisits']).over(windowlag))\n",
    "all_data = all_data.withColumn('numDowngradeVisits_lastMonth', lag(all_data['numDowngradeVisits']).over(windowlag))\n",
    "all_data = all_data.withColumn('numHomeVisits_lastMonth', lag(all_data['numHomeVisits']).over(windowlag))\n",
    "all_data = all_data.withColumn('numAboutVisits_lastMonth', lag(all_data['numAboutVisits']).over(windowlag))\n",
    "all_data = all_data.withColumn('numSettingsVisits_lastMonth', lag(all_data['numSettingsVisits']).over(windowlag))\n",
    "all_data = all_data.withColumn('numSaveSettings_lastMonth', lag(all_data['numSaveSettings']).over(windowlag))\n",
    "all_data = all_data.withColumn('numLogouts_lastMonth', lag(all_data['numLogouts']).over(windowlag))\n",
    "all_data = all_data.withColumn('numAddPlaylists_lastMonth', lag(all_data['numAddPlaylists']).over(windowlag))\n",
    "all_data = all_data.withColumn('numFriends_lastMonth', lag(all_data['numFriends']).over(windowlag))\n",
    "all_data = all_data.withColumn('numThumbsUp_lastMonth', lag(all_data['numThumbsUp']).over(windowlag))\n",
    "all_data = all_data.withColumn('numThumbsDown_lastMonth', lag(all_data['numThumbsDown']).over(windowlag))\n",
    "all_data = all_data.withColumn('numAdverts_lastMonth', lag(all_data['numAdverts']).over(windowlag))\n",
    "all_data = all_data.withColumn('numSongsPlayed_lastMonth', lag(all_data['numSongsPlayed']).over(windowlag))\n",
    "all_data = all_data.withColumn('totalListenTime_lastMonth', lag(all_data['totalListenTime']).over(windowlag))\n",
    "all_data = all_data.withColumn('avgSongsPerSession_lastMonth', lag(all_data['avgSongsPerSession']).over(windowlag))\n",
    "all_data = all_data.withColumn('numSingersPlayed_lastMonth', lag(all_data['numSingersPlayed']).over(windowlag))\n",
    "all_data = all_data.withColumn('avgSingersPerSession_lastMonth', lag(all_data['avgSingersPerSession']).over(windowlag))\n",
    "all_data = all_data.withColumn('avgSessionMins_lastMonth', lag(all_data['avgSessionMins']).over(windowlag))\n",
    "all_data = all_data.withColumn('numSessions_lastMonth', lag(all_data['numSessions']).over(windowlag))\n",
    "all_data = all_data.withColumn('level_lastMonth', lag(all_data['level']).over(windowlag))"
   ]
  },
  {
   "cell_type": "markdown",
   "metadata": {},
   "source": [
    "### Additional Data Adjustments"
   ]
  },
  {
   "cell_type": "code",
   "execution_count": 19,
   "metadata": {
    "ExecuteTime": {
     "end_time": "2019-04-04T16:02:55.733285Z",
     "start_time": "2019-04-04T16:02:55.557012Z"
    }
   },
   "outputs": [],
   "source": [
    "# convert userId, gender, level, level_lastMonth to numeric\n",
    "convert_numeric = ['userId', 'level', 'gender', 'level_lastMonth']\n",
    "for feat in convert_numeric:\n",
    "    featName = feat + \"_n\"\n",
    "    all_data = all_data.withColumn(featName, all_data[feat].cast(\"float\"))\n",
    "    all_data = all_data.drop(feat)\n",
    "    \n",
    "# fill na/null values with 0\n",
    "all_data = all_data.na.fill(0.0)"
   ]
  },
  {
   "cell_type": "code",
   "execution_count": 20,
   "metadata": {
    "ExecuteTime": {
     "end_time": "2019-04-04T16:02:56.578282Z",
     "start_time": "2019-04-04T16:02:55.735714Z"
    }
   },
   "outputs": [
    {
     "data": {
      "text/plain": [
       "DataFrame[month_num: bigint, numUpgradeVisits: bigint, numDowngradeVisits: bigint, numHomeVisits: bigint, numAboutVisits: bigint, numSettingsVisits: bigint, numSaveSettings: bigint, numLogouts: bigint, numAddPlaylists: bigint, numFriends: bigint, numThumbsUp: bigint, numThumbsDown: bigint, numAdverts: bigint, numSongsPlayed: bigint, totalListenTime: double, avgSongsPerSession: double, numSingersPlayed: bigint, avgSingersPerSession: double, avgSessionMins: double, numSessions: bigint, daysSinceReg: int, churn: int, numUpgradeVisits_lastMonth: bigint, numDowngradeVisits_lastMonth: bigint, numHomeVisits_lastMonth: bigint, numAboutVisits_lastMonth: bigint, numSettingsVisits_lastMonth: bigint, numSaveSettings_lastMonth: bigint, numLogouts_lastMonth: bigint, numAddPlaylists_lastMonth: bigint, numFriends_lastMonth: bigint, numThumbsUp_lastMonth: bigint, numThumbsDown_lastMonth: bigint, numAdverts_lastMonth: bigint, numSongsPlayed_lastMonth: bigint, totalListenTime_lastMonth: double, avgSongsPerSession_lastMonth: double, numSingersPlayed_lastMonth: bigint, avgSingersPerSession_lastMonth: double, avgSessionMins_lastMonth: double, numSessions_lastMonth: bigint, userId_n: float, level_n: float, gender_n: float, level_lastMonth_n: float]"
      ]
     },
     "execution_count": 20,
     "metadata": {},
     "output_type": "execute_result"
    }
   ],
   "source": [
    "all_data.persist()"
   ]
  },
  {
   "cell_type": "code",
   "execution_count": 21,
   "metadata": {
    "ExecuteTime": {
     "end_time": "2019-04-04T16:02:56.584152Z",
     "start_time": "2019-04-04T16:02:56.580057Z"
    }
   },
   "outputs": [
    {
     "data": {
      "text/plain": [
       "['month_num',\n",
       " 'numUpgradeVisits',\n",
       " 'numDowngradeVisits',\n",
       " 'numHomeVisits',\n",
       " 'numAboutVisits',\n",
       " 'numSettingsVisits',\n",
       " 'numSaveSettings',\n",
       " 'numLogouts',\n",
       " 'numAddPlaylists',\n",
       " 'numFriends',\n",
       " 'numThumbsUp',\n",
       " 'numThumbsDown',\n",
       " 'numAdverts',\n",
       " 'numSongsPlayed',\n",
       " 'totalListenTime',\n",
       " 'avgSongsPerSession',\n",
       " 'numSingersPlayed',\n",
       " 'avgSingersPerSession',\n",
       " 'avgSessionMins',\n",
       " 'numSessions',\n",
       " 'daysSinceReg',\n",
       " 'churn',\n",
       " 'numUpgradeVisits_lastMonth',\n",
       " 'numDowngradeVisits_lastMonth',\n",
       " 'numHomeVisits_lastMonth',\n",
       " 'numAboutVisits_lastMonth',\n",
       " 'numSettingsVisits_lastMonth',\n",
       " 'numSaveSettings_lastMonth',\n",
       " 'numLogouts_lastMonth',\n",
       " 'numAddPlaylists_lastMonth',\n",
       " 'numFriends_lastMonth',\n",
       " 'numThumbsUp_lastMonth',\n",
       " 'numThumbsDown_lastMonth',\n",
       " 'numAdverts_lastMonth',\n",
       " 'numSongsPlayed_lastMonth',\n",
       " 'totalListenTime_lastMonth',\n",
       " 'avgSongsPerSession_lastMonth',\n",
       " 'numSingersPlayed_lastMonth',\n",
       " 'avgSingersPerSession_lastMonth',\n",
       " 'avgSessionMins_lastMonth',\n",
       " 'numSessions_lastMonth',\n",
       " 'userId_n',\n",
       " 'level_n',\n",
       " 'gender_n',\n",
       " 'level_lastMonth_n']"
      ]
     },
     "execution_count": 21,
     "metadata": {},
     "output_type": "execute_result"
    }
   ],
   "source": [
    "all_data.columns"
   ]
  },
  {
   "cell_type": "code",
   "execution_count": 22,
   "metadata": {
    "ExecuteTime": {
     "end_time": "2019-04-04T16:02:56.668115Z",
     "start_time": "2019-04-04T16:02:56.586322Z"
    }
   },
   "outputs": [],
   "source": [
    "# drop month 0 since we do not have old information to predict churn for this month\n",
    "# keep only features to be trained and labels\n",
    "\n",
    "model_data = all_data \\\n",
    ".filter(all_data.month_num>0) \\\n",
    ".select('userId_n', 'month_num',\\\n",
    "        'numUpgradeVisits_lastMonth', 'numDowngradeVisits_lastMonth',\\\n",
    "        'numHomeVisits_lastMonth', 'numAboutVisits_lastMonth',\\\n",
    "        'numSettingsVisits_lastMonth', 'numSaveSettings_lastMonth',\\\n",
    "        'numLogouts_lastMonth', \\\n",
    "        'numAddPlaylists_lastMonth', 'numFriends_lastMonth',\\\n",
    "        'numThumbsUp_lastMonth', 'numThumbsDown_lastMonth',\\\n",
    "        'numAdverts_lastMonth', 'numSongsPlayed_lastMonth',\\\n",
    "        'totalListenTime_lastMonth', 'avgSongsPerSession_lastMonth',\\\n",
    "        'numSingersPlayed_lastMonth', 'avgSingersPerSession_lastMonth',\\\n",
    "        'avgSessionMins_lastMonth', 'numSessions_lastMonth',\\\n",
    "        'level_lastMonth_n',\\\n",
    "        'gender_n', 'daysSinceReg', 'churn'\n",
    "        ).withColumnRenamed('churn', 'label')\n",
    "\n",
    "#model_data.show(1)"
   ]
  },
  {
   "cell_type": "markdown",
   "metadata": {},
   "source": [
    "## Converting to Pandas"
   ]
  },
  {
   "cell_type": "code",
   "execution_count": 23,
   "metadata": {
    "ExecuteTime": {
     "end_time": "2019-04-04T16:04:06.637888Z",
     "start_time": "2019-04-04T16:02:56.670258Z"
    }
   },
   "outputs": [],
   "source": [
    "data = all_data.toPandas()"
   ]
  },
  {
   "cell_type": "code",
   "execution_count": 24,
   "metadata": {
    "ExecuteTime": {
     "end_time": "2019-04-04T16:04:06.675214Z",
     "start_time": "2019-04-04T16:04:06.640294Z"
    }
   },
   "outputs": [
    {
     "data": {
      "text/html": [
       "<div>\n",
       "<style scoped>\n",
       "    .dataframe tbody tr th:only-of-type {\n",
       "        vertical-align: middle;\n",
       "    }\n",
       "\n",
       "    .dataframe tbody tr th {\n",
       "        vertical-align: top;\n",
       "    }\n",
       "\n",
       "    .dataframe thead th {\n",
       "        text-align: right;\n",
       "    }\n",
       "</style>\n",
       "<table border=\"1\" class=\"dataframe\">\n",
       "  <thead>\n",
       "    <tr style=\"text-align: right;\">\n",
       "      <th></th>\n",
       "      <th>month_num</th>\n",
       "      <th>numUpgradeVisits</th>\n",
       "      <th>numDowngradeVisits</th>\n",
       "      <th>numHomeVisits</th>\n",
       "      <th>numAboutVisits</th>\n",
       "      <th>numSettingsVisits</th>\n",
       "      <th>numSaveSettings</th>\n",
       "      <th>numLogouts</th>\n",
       "      <th>numAddPlaylists</th>\n",
       "      <th>numFriends</th>\n",
       "      <th>...</th>\n",
       "      <th>totalListenTime_lastMonth</th>\n",
       "      <th>avgSongsPerSession_lastMonth</th>\n",
       "      <th>numSingersPlayed_lastMonth</th>\n",
       "      <th>avgSingersPerSession_lastMonth</th>\n",
       "      <th>avgSessionMins_lastMonth</th>\n",
       "      <th>numSessions_lastMonth</th>\n",
       "      <th>userId_n</th>\n",
       "      <th>level_n</th>\n",
       "      <th>gender_n</th>\n",
       "      <th>level_lastMonth_n</th>\n",
       "    </tr>\n",
       "  </thead>\n",
       "  <tbody>\n",
       "    <tr>\n",
       "      <th>0</th>\n",
       "      <td>0</td>\n",
       "      <td>2</td>\n",
       "      <td>0</td>\n",
       "      <td>3</td>\n",
       "      <td>0</td>\n",
       "      <td>0</td>\n",
       "      <td>0</td>\n",
       "      <td>1</td>\n",
       "      <td>1</td>\n",
       "      <td>3</td>\n",
       "      <td>...</td>\n",
       "      <td>0.00000</td>\n",
       "      <td>0.0</td>\n",
       "      <td>0</td>\n",
       "      <td>0.0</td>\n",
       "      <td>0.000000</td>\n",
       "      <td>0</td>\n",
       "      <td>100010.0</td>\n",
       "      <td>0.0</td>\n",
       "      <td>1.0</td>\n",
       "      <td>0.0</td>\n",
       "    </tr>\n",
       "    <tr>\n",
       "      <th>1</th>\n",
       "      <td>0</td>\n",
       "      <td>2</td>\n",
       "      <td>3</td>\n",
       "      <td>23</td>\n",
       "      <td>1</td>\n",
       "      <td>2</td>\n",
       "      <td>0</td>\n",
       "      <td>11</td>\n",
       "      <td>6</td>\n",
       "      <td>2</td>\n",
       "      <td>...</td>\n",
       "      <td>0.00000</td>\n",
       "      <td>0.0</td>\n",
       "      <td>0</td>\n",
       "      <td>0.0</td>\n",
       "      <td>0.000000</td>\n",
       "      <td>0</td>\n",
       "      <td>200002.0</td>\n",
       "      <td>1.0</td>\n",
       "      <td>0.0</td>\n",
       "      <td>0.0</td>\n",
       "    </tr>\n",
       "    <tr>\n",
       "      <th>2</th>\n",
       "      <td>0</td>\n",
       "      <td>1</td>\n",
       "      <td>1</td>\n",
       "      <td>7</td>\n",
       "      <td>0</td>\n",
       "      <td>1</td>\n",
       "      <td>0</td>\n",
       "      <td>3</td>\n",
       "      <td>3</td>\n",
       "      <td>2</td>\n",
       "      <td>...</td>\n",
       "      <td>0.00000</td>\n",
       "      <td>0.0</td>\n",
       "      <td>0</td>\n",
       "      <td>0.0</td>\n",
       "      <td>0.000000</td>\n",
       "      <td>0</td>\n",
       "      <td>296.0</td>\n",
       "      <td>1.0</td>\n",
       "      <td>1.0</td>\n",
       "      <td>0.0</td>\n",
       "    </tr>\n",
       "    <tr>\n",
       "      <th>3</th>\n",
       "      <td>0</td>\n",
       "      <td>0</td>\n",
       "      <td>0</td>\n",
       "      <td>1</td>\n",
       "      <td>0</td>\n",
       "      <td>3</td>\n",
       "      <td>0</td>\n",
       "      <td>0</td>\n",
       "      <td>1</td>\n",
       "      <td>3</td>\n",
       "      <td>...</td>\n",
       "      <td>0.00000</td>\n",
       "      <td>0.0</td>\n",
       "      <td>0</td>\n",
       "      <td>0.0</td>\n",
       "      <td>0.000000</td>\n",
       "      <td>0</td>\n",
       "      <td>125.0</td>\n",
       "      <td>0.0</td>\n",
       "      <td>0.0</td>\n",
       "      <td>0.0</td>\n",
       "    </tr>\n",
       "    <tr>\n",
       "      <th>4</th>\n",
       "      <td>1</td>\n",
       "      <td>0</td>\n",
       "      <td>0</td>\n",
       "      <td>1</td>\n",
       "      <td>0</td>\n",
       "      <td>0</td>\n",
       "      <td>0</td>\n",
       "      <td>0</td>\n",
       "      <td>1</td>\n",
       "      <td>0</td>\n",
       "      <td>...</td>\n",
       "      <td>14632.72472</td>\n",
       "      <td>29.0</td>\n",
       "      <td>57</td>\n",
       "      <td>28.5</td>\n",
       "      <td>118.066667</td>\n",
       "      <td>2</td>\n",
       "      <td>125.0</td>\n",
       "      <td>0.0</td>\n",
       "      <td>0.0</td>\n",
       "      <td>0.0</td>\n",
       "    </tr>\n",
       "  </tbody>\n",
       "</table>\n",
       "<p>5 rows × 45 columns</p>\n",
       "</div>"
      ],
      "text/plain": [
       "   month_num  numUpgradeVisits  numDowngradeVisits  numHomeVisits  \\\n",
       "0          0                 2                   0              3   \n",
       "1          0                 2                   3             23   \n",
       "2          0                 1                   1              7   \n",
       "3          0                 0                   0              1   \n",
       "4          1                 0                   0              1   \n",
       "\n",
       "   numAboutVisits  numSettingsVisits  numSaveSettings  numLogouts  \\\n",
       "0               0                  0                0           1   \n",
       "1               1                  2                0          11   \n",
       "2               0                  1                0           3   \n",
       "3               0                  3                0           0   \n",
       "4               0                  0                0           0   \n",
       "\n",
       "   numAddPlaylists  numFriends        ...          totalListenTime_lastMonth  \\\n",
       "0                1           3        ...                            0.00000   \n",
       "1                6           2        ...                            0.00000   \n",
       "2                3           2        ...                            0.00000   \n",
       "3                1           3        ...                            0.00000   \n",
       "4                1           0        ...                        14632.72472   \n",
       "\n",
       "   avgSongsPerSession_lastMonth  numSingersPlayed_lastMonth  \\\n",
       "0                           0.0                           0   \n",
       "1                           0.0                           0   \n",
       "2                           0.0                           0   \n",
       "3                           0.0                           0   \n",
       "4                          29.0                          57   \n",
       "\n",
       "   avgSingersPerSession_lastMonth  avgSessionMins_lastMonth  \\\n",
       "0                             0.0                  0.000000   \n",
       "1                             0.0                  0.000000   \n",
       "2                             0.0                  0.000000   \n",
       "3                             0.0                  0.000000   \n",
       "4                            28.5                118.066667   \n",
       "\n",
       "   numSessions_lastMonth  userId_n  level_n  gender_n  level_lastMonth_n  \n",
       "0                      0  100010.0      0.0       1.0                0.0  \n",
       "1                      0  200002.0      1.0       0.0                0.0  \n",
       "2                      0     296.0      1.0       1.0                0.0  \n",
       "3                      0     125.0      0.0       0.0                0.0  \n",
       "4                      2     125.0      0.0       0.0                0.0  \n",
       "\n",
       "[5 rows x 45 columns]"
      ]
     },
     "execution_count": 24,
     "metadata": {},
     "output_type": "execute_result"
    }
   ],
   "source": [
    "data.head()"
   ]
  },
  {
   "cell_type": "markdown",
   "metadata": {},
   "source": [
    "## Train Test Split"
   ]
  },
  {
   "cell_type": "code",
   "execution_count": 25,
   "metadata": {
    "ExecuteTime": {
     "end_time": "2019-04-04T16:04:06.684893Z",
     "start_time": "2019-04-04T16:04:06.678032Z"
    }
   },
   "outputs": [],
   "source": [
    "X, y = data.drop(columns=[\"churn\"]), data[\"churn\"]"
   ]
  },
  {
   "cell_type": "code",
   "execution_count": 26,
   "metadata": {
    "ExecuteTime": {
     "end_time": "2019-04-04T16:04:06.704118Z",
     "start_time": "2019-04-04T16:04:06.687914Z"
    }
   },
   "outputs": [
    {
     "name": "stderr",
     "output_type": "stream",
     "text": [
      "/anaconda3/lib/python3.7/site-packages/sklearn/preprocessing/data.py:625: DataConversionWarning: Data with input dtype int32, int64, float32, float64 were all converted to float64 by StandardScaler.\n",
      "  return self.partial_fit(X, y)\n",
      "/anaconda3/lib/python3.7/site-packages/sklearn/base.py:462: DataConversionWarning: Data with input dtype int32, int64, float32, float64 were all converted to float64 by StandardScaler.\n",
      "  return self.fit(X, **fit_params).transform(X)\n"
     ]
    }
   ],
   "source": [
    "scaler = StandardScaler()\n",
    "X = pd.DataFrame(scaler.fit_transform(X),columns = X.columns)"
   ]
  },
  {
   "cell_type": "code",
   "execution_count": 27,
   "metadata": {
    "ExecuteTime": {
     "end_time": "2019-04-04T16:04:06.715697Z",
     "start_time": "2019-04-04T16:04:06.706924Z"
    }
   },
   "outputs": [],
   "source": [
    "X_train, X_test, y_train, y_test = train_test_split(X, y, test_size=0.2, random_state=42)"
   ]
  },
  {
   "cell_type": "markdown",
   "metadata": {},
   "source": [
    "### Logistic Regression"
   ]
  },
  {
   "cell_type": "code",
   "execution_count": 28,
   "metadata": {
    "ExecuteTime": {
     "end_time": "2019-04-04T16:04:06.741212Z",
     "start_time": "2019-04-04T16:04:06.718762Z"
    }
   },
   "outputs": [],
   "source": [
    "lr = LogisticRegression(C=1.0, penalty='l2')\n",
    "lr_model = lr.fit(X_train, y_train)\n",
    "y_pred_lr = lr.predict(X_test)"
   ]
  },
  {
   "cell_type": "code",
   "execution_count": 29,
   "metadata": {
    "ExecuteTime": {
     "end_time": "2019-04-04T16:04:06.756848Z",
     "start_time": "2019-04-04T16:04:06.743561Z"
    }
   },
   "outputs": [
    {
     "name": "stdout",
     "output_type": "stream",
     "text": [
      "Logistic Regression Accuracy: 0.7706\n",
      "Logistic Regression Precision: 0.6667\n",
      "Logistic Regression Recall: 0.2273\n",
      "Logistic Regression F1 Score: 0.339\n"
     ]
    }
   ],
   "source": [
    "lr_accuracy = round(accuracy_score(y_test, y_pred_lr), 4)\n",
    "lr_precision = round(precision_score(y_test, y_pred_lr), 4)\n",
    "lr_recall = round(recall_score(y_test, y_pred_lr), 4)\n",
    "lr_f1 = round(f1_score(y_test, y_pred_lr), 4)\n",
    "print(f'Logistic Regression Accuracy: {lr_accuracy}')\n",
    "print(f'Logistic Regression Precision: {lr_precision}')\n",
    "print(f'Logistic Regression Recall: {lr_recall}')\n",
    "print(f'Logistic Regression F1 Score: {lr_f1}')"
   ]
  },
  {
   "cell_type": "code",
   "execution_count": 30,
   "metadata": {
    "ExecuteTime": {
     "end_time": "2019-04-04T16:04:28.708338Z",
     "start_time": "2019-04-04T16:04:06.760997Z"
    }
   },
   "outputs": [
    {
     "name": "stderr",
     "output_type": "stream",
     "text": [
      "/anaconda3/lib/python3.7/site-packages/sklearn/svm/base.py:922: ConvergenceWarning: Liblinear failed to converge, increase the number of iterations.\n",
      "  \"the number of iterations.\", ConvergenceWarning)\n",
      "/anaconda3/lib/python3.7/site-packages/sklearn/svm/base.py:922: ConvergenceWarning: Liblinear failed to converge, increase the number of iterations.\n",
      "  \"the number of iterations.\", ConvergenceWarning)\n",
      "/anaconda3/lib/python3.7/site-packages/sklearn/svm/base.py:922: ConvergenceWarning: Liblinear failed to converge, increase the number of iterations.\n",
      "  \"the number of iterations.\", ConvergenceWarning)\n",
      "/anaconda3/lib/python3.7/site-packages/sklearn/svm/base.py:922: ConvergenceWarning: Liblinear failed to converge, increase the number of iterations.\n",
      "  \"the number of iterations.\", ConvergenceWarning)\n",
      "/anaconda3/lib/python3.7/site-packages/sklearn/model_selection/_search.py:841: DeprecationWarning: The default of the `iid` parameter will change from True to False in version 0.22 and will be removed in 0.24. This will change numeric results when test-set sizes are unequal.\n",
      "  DeprecationWarning)\n"
     ]
    }
   ],
   "source": [
    "grid={\"C\":np.logspace(-3,3,7), \"penalty\":[\"l1\",\"l2\"]}# l1 lasso l2 ridge\n",
    "lr=LogisticRegression()\n",
    "lr_opt=GridSearchCV(lr,grid,cv=10)\n",
    "lr_opt.fit(X,y)\n",
    "y_pred_lr_opt = lr_opt.predict(X)"
   ]
  },
  {
   "cell_type": "code",
   "execution_count": 66,
   "metadata": {
    "ExecuteTime": {
     "end_time": "2019-04-04T17:13:06.720079Z",
     "start_time": "2019-04-04T17:13:06.716919Z"
    },
    "scrolled": true
   },
   "outputs": [
    {
     "name": "stdout",
     "output_type": "stream",
     "text": [
      "Tuned (best) hpyerparameters {'C': 1.0, 'penalty': 'l2'}\n"
     ]
    }
   ],
   "source": [
    "print(\"Tuned (best) hpyerparameters\",lr_opt.best_params_)"
   ]
  },
  {
   "cell_type": "code",
   "execution_count": 32,
   "metadata": {
    "ExecuteTime": {
     "end_time": "2019-04-04T16:04:28.724612Z",
     "start_time": "2019-04-04T16:04:28.716521Z"
    }
   },
   "outputs": [
    {
     "name": "stdout",
     "output_type": "stream",
     "text": [
      "Logistic Regression Accuracy: 0.8205\n",
      "Logistic Regression Precision: 0.7416\n",
      "Logistic Regression Recall: 0.3385\n",
      "Logistic Regression F1 Score: 0.4648\n"
     ]
    }
   ],
   "source": [
    "lr_optaccuracy = round(accuracy_score(y, y_pred_lr_opt), 4)\n",
    "lr_optprecision = round(precision_score(y, y_pred_lr_opt), 4)\n",
    "lr_optrecall = round(recall_score(y, y_pred_lr_opt), 4)\n",
    "lr_optf1 = round(f1_score(y, y_pred_lr_opt), 4)\n",
    "print(f'Logistic Regression Accuracy: {lr_optaccuracy}')\n",
    "print(f'Logistic Regression Precision: {lr_optprecision}')\n",
    "print(f'Logistic Regression Recall: {lr_optrecall}')\n",
    "print(f'Logistic Regression F1 Score: {lr_optf1}')"
   ]
  },
  {
   "cell_type": "code",
   "execution_count": 33,
   "metadata": {
    "ExecuteTime": {
     "end_time": "2019-04-04T16:04:28.914001Z",
     "start_time": "2019-04-04T16:04:28.727070Z"
    },
    "scrolled": true
   },
   "outputs": [
    {
     "data": {
      "image/png": "[encoded data removed]",
      "text/plain": [
       "<Figure size 432x288 with 2 Axes>"
      ]
     },
     "metadata": {
      "needs_background": "light"
     },
     "output_type": "display_data"
    }
   ],
   "source": [
    "plot_confusion_matrix(y, y_pred_lr_opt);"
   ]
  },
  {
   "cell_type": "markdown",
   "metadata": {},
   "source": [
    "### Linear SVC"
   ]
  },
  {
   "cell_type": "code",
   "execution_count": 53,
   "metadata": {
    "ExecuteTime": {
     "end_time": "2019-04-04T16:35:57.969365Z",
     "start_time": "2019-04-04T16:34:54.752704Z"
    }
   },
   "outputs": [],
   "source": [
    "svc = SVC(kernel='linear', C=1000)\n",
    "svc_model = svc.fit(X_train, y_train)\n",
    "y_pred_svc = svc.predict(X_test)"
   ]
  },
  {
   "cell_type": "code",
   "execution_count": 54,
   "metadata": {
    "ExecuteTime": {
     "end_time": "2019-04-04T16:36:03.457862Z",
     "start_time": "2019-04-04T16:36:03.447436Z"
    }
   },
   "outputs": [
    {
     "name": "stdout",
     "output_type": "stream",
     "text": [
      "SVC Accuracy: 0.7529\n",
      "SVC Precision: 0.5625\n",
      "SVC Recall: 0.2045\n",
      "SVC F1 Score: 0.3\n"
     ]
    }
   ],
   "source": [
    "svc_accuracy = round(accuracy_score(y_test, y_pred_svc), 4)\n",
    "svc_precision = round(precision_score(y_test, y_pred_svc), 4)\n",
    "svc_recall = round(recall_score(y_test, y_pred_svc), 4)\n",
    "svc_f1 = round(f1_score(y_test, y_pred_svc), 4)\n",
    "print(f'SVC Accuracy: {svc_accuracy}')\n",
    "print(f'SVC Precision: {svc_precision}')\n",
    "print(f'SVC Recall: {svc_recall}')\n",
    "print(f'SVC F1 Score: {svc_f1}')"
   ]
  },
  {
   "cell_type": "code",
   "execution_count": 160,
   "metadata": {
    "ExecuteTime": {
     "end_time": "2019-04-04T15:58:09.670643Z",
     "start_time": "2019-04-04T15:58:09.666643Z"
    },
    "scrolled": true
   },
   "outputs": [
    {
     "name": "stdout",
     "output_type": "stream",
     "text": [
      "Tuned (best) hpyerparameters {'C': 100.0, 'gamma': 0.001, 'kernel': 'rbf'}\n",
      "Accuracy: 0.7981109799291618\n"
     ]
    }
   ],
   "source": [
    "print(\"Tuned (best) hpyerparameters\",svc_opt.best_params_)\n",
    "print(\"Accuracy:\",svc_opt.best_score_)"
   ]
  },
  {
   "cell_type": "code",
   "execution_count": 57,
   "metadata": {
    "ExecuteTime": {
     "end_time": "2019-04-04T16:38:11.050260Z",
     "start_time": "2019-04-04T16:38:10.886318Z"
    }
   },
   "outputs": [
    {
     "data": {
      "image/png": "[encoded data removed]",
      "text/plain": [
       "<Figure size 432x288 with 2 Axes>"
      ]
     },
     "metadata": {
      "needs_background": "light"
     },
     "output_type": "display_data"
    }
   ],
   "source": [
    "plot_confusion_matrix(y_test, y_pred_svc);"
   ]
  },
  {
   "cell_type": "markdown",
   "metadata": {},
   "source": [
    "### Gradient Boosted Trees"
   ]
  },
  {
   "cell_type": "code",
   "execution_count": 58,
   "metadata": {
    "ExecuteTime": {
     "end_time": "2019-04-04T16:40:14.498621Z",
     "start_time": "2019-04-04T16:40:14.299860Z"
    }
   },
   "outputs": [],
   "source": [
    "gbc = GradientBoostingClassifier()\n",
    "gbc_model = gbc.fit(X_train, y_train)\n",
    "y_pred_gbc = gbc.predict(X_test)"
   ]
  },
  {
   "cell_type": "code",
   "execution_count": 59,
   "metadata": {
    "ExecuteTime": {
     "end_time": "2019-04-04T16:40:14.977603Z",
     "start_time": "2019-04-04T16:40:14.968814Z"
    }
   },
   "outputs": [
    {
     "name": "stdout",
     "output_type": "stream",
     "text": [
      "Gradient Boosted Trees Accuracy: 0.7706\n",
      "Gradient Boosted Trees Precision: 0.619\n",
      "Gradient Boosted Trees Recall: 0.2955\n",
      "Gradient Boosted Trees F1 Score: 0.4\n"
     ]
    }
   ],
   "source": [
    "gbc_accuracy = round(accuracy_score(y_test, y_pred_gbc), 4)\n",
    "gbc_precision = round(precision_score(y_test, y_pred_gbc), 4)\n",
    "gbc_recall = round(recall_score(y_test, y_pred_gbc), 4)\n",
    "gbc_f1 = round(f1_score(y_test, y_pred_gbc), 4)\n",
    "print(f'Gradient Boosted Trees Accuracy: {gbc_accuracy}')\n",
    "print(f'Gradient Boosted Trees Precision: {gbc_precision}')\n",
    "print(f'Gradient Boosted Trees Recall: {gbc_recall}')\n",
    "print(f'Gradient Boosted Trees F1 Score: {gbc_f1}')"
   ]
  },
  {
   "cell_type": "code",
   "execution_count": 62,
   "metadata": {
    "ExecuteTime": {
     "end_time": "2019-04-04T17:01:35.205545Z",
     "start_time": "2019-04-04T16:43:13.516267Z"
    }
   },
   "outputs": [],
   "source": [
    "grid = {\n",
    "    \"learning_rate\": [0.01, 0.025, 0.05, 0.075, 0.1, 0.15, 0.2],\n",
    "    \"min_samples_split\": np.linspace(0.1, 0.5, 5),\n",
    "    \"min_samples_leaf\": np.linspace(0.1, 0.5, 5),\n",
    "    \"max_depth\":[3,5,8],\n",
    "    \"n_estimators\":[10, 100, 1000]\n",
    "    }\n",
    "gbc=GradientBoostingClassifier()\n",
    "gbc_opt=GridSearchCV(gbc,grid,cv=3)\n",
    "gbc_opt.fit(X,y)\n",
    "y_pred_gbc_opt = gbc_opt.predict(X)"
   ]
  },
  {
   "cell_type": "code",
   "execution_count": 65,
   "metadata": {
    "ExecuteTime": {
     "end_time": "2019-04-04T17:12:54.950433Z",
     "start_time": "2019-04-04T17:12:54.947330Z"
    },
    "scrolled": true
   },
   "outputs": [
    {
     "name": "stdout",
     "output_type": "stream",
     "text": [
      "Tuned (best) hpyerparameters {'learning_rate': 0.1, 'max_depth': 3, 'min_samples_leaf': 0.1, 'min_samples_split': 0.4, 'n_estimators': 100}\n"
     ]
    }
   ],
   "source": [
    "print(\"Tuned (best) hpyerparameters\",gbc_opt.best_params_)"
   ]
  },
  {
   "cell_type": "code",
   "execution_count": 64,
   "metadata": {
    "ExecuteTime": {
     "end_time": "2019-04-04T17:12:18.342794Z",
     "start_time": "2019-04-04T17:12:18.334292Z"
    }
   },
   "outputs": [
    {
     "name": "stdout",
     "output_type": "stream",
     "text": [
      "Gradient Boosted Trees Accuracy: 0.8749\n",
      "Gradient Boosted Trees Precision: 0.856\n",
      "Gradient Boosted Trees Recall: 0.5487\n",
      "Gradient Boosted Trees F1 Score: 0.6688\n"
     ]
    }
   ],
   "source": [
    "gbc_optaccuracy = round(accuracy_score(y, y_pred_gbc_opt), 4)\n",
    "gbc_optprecision = round(precision_score(y, y_pred_gbc_opt), 4)\n",
    "gbc_optrecall = round(recall_score(y, y_pred_gbc_opt), 4)\n",
    "gbc_optf1 = round(f1_score(y, y_pred_gbc_opt), 4)\n",
    "print(f'Gradient Boosted Trees Accuracy: {gbc_optaccuracy}')\n",
    "print(f'Gradient Boosted Trees Precision: {gbc_optprecision}')\n",
    "print(f'Gradient Boosted Trees Recall: {gbc_optrecall}')\n",
    "print(f'Gradient Boosted Trees F1 Score: {gbc_optf1}')"
   ]
  },
  {
   "cell_type": "code",
   "execution_count": 69,
   "metadata": {
    "ExecuteTime": {
     "end_time": "2019-04-04T17:14:52.390094Z",
     "start_time": "2019-04-04T17:14:52.153754Z"
    },
    "scrolled": true
   },
   "outputs": [
    {
     "data": {
      "image/png": "[encoded data removed]",
      "text/plain": [
       "<Figure size 432x288 with 2 Axes>"
      ]
     },
     "metadata": {
      "needs_background": "light"
     },
     "output_type": "display_data"
    }
   ],
   "source": [
    "plot_confusion_matrix(y, y_pred_gbc_opt);"
   ]
  },
  {
   "cell_type": "markdown",
   "metadata": {},
   "source": [
    "## Feature Importance"
   ]
  },
  {
   "cell_type": "code",
   "execution_count": 79,
   "metadata": {
    "ExecuteTime": {
     "end_time": "2019-04-04T17:19:08.376369Z",
     "start_time": "2019-04-04T17:19:07.781249Z"
    }
   },
   "outputs": [
    {
     "data": {
      "text/plain": [
       "<matplotlib.axes._subplots.AxesSubplot at 0x1a21bd33c8>"
      ]
     },
     "execution_count": 79,
     "metadata": {},
     "output_type": "execute_result"
    },
    {
     "data": {
      "image/png": "[encoded data removed]",
      "text/plain": [
       "<Figure size 1080x576 with 1 Axes>"
      ]
     },
     "metadata": {
      "needs_background": "light"
     },
     "output_type": "display_data"
    }
   ],
   "source": [
    "fig, ax = plt.subplots(figsize=(15,8))\n",
    "plot_feature_importances(gbc_model, max_num_features=50, feature_names=X.columns, x_tick_rotation=90, ax=ax)"
   ]
  },
  {
   "cell_type": "code",
   "execution_count": null,
   "metadata": {},
   "outputs": [],
   "source": []
  }
 ],
 "metadata": {
  "kernelspec": {
   "display_name": "Python 3",
   "language": "python",
   "name": "python3"
  },
  "language_info": {
   "codemirror_mode": {
    "name": "ipython",
    "version": 3
   },
   "file_extension": ".py",
   "mimetype": "text/x-python",
   "name": "python",
   "nbconvert_exporter": "python",
   "pygments_lexer": "ipython3",
   "version": "3.7.1"
  },
  "varInspector": {
   "cols": {
    "lenName": 16,
    "lenType": 16,
    "lenVar": 40
   },
   "kernels_config": {
    "python": {
     "delete_cmd_postfix": "",
     "delete_cmd_prefix": "del ",
     "library": "var_list.py",
     "varRefreshCmd": "print(var_dic_list())"
    },
    "r": {
     "delete_cmd_postfix": ") ",
     "delete_cmd_prefix": "rm(",
     "library": "var_list.r",
     "varRefreshCmd": "cat(var_dic_list()) "
    }
   },
   "types_to_exclude": [
    "module",
    "function",
    "builtin_function_or_method",
    "instance",
    "_Feature"
   ],
   "window_display": false
  }
 },
 "nbformat": 4,
 "nbformat_minor": 2
}
